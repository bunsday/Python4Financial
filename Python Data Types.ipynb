{
 "cells": [
  {
   "cell_type": "markdown",
   "id": "d0fd95dd",
   "metadata": {},
   "source": [
    "## Built-in Data Types"
   ]
  },
  {
   "cell_type": "code",
   "execution_count": null,
   "id": "2a4b81a6",
   "metadata": {},
   "outputs": [],
   "source": [
    "In programming, data type is an important concept.\n",
    "\n",
    "Variables can store data of different types, and different types can do different things.\n",
    "\n",
    "Python has the following data types built-in by default, in these categories:\n",
    "\n",
    "Text Type:\tstr\n",
    "Numeric Types:\tint, float, complex\n",
    "Sequence Types:\tlist, tuple, range\n",
    "Mapping Type:\tdict\n",
    "Set Types:\tset, frozenset\n",
    "Boolean Type:\tbool\n",
    "Binary Types:\tbytes, bytearray, memoryview\n",
    "None Type:\tNoneType"
   ]
  },
  {
   "cell_type": "markdown",
   "id": "c0746cb2",
   "metadata": {},
   "source": [
    "## Getting the Data Type"
   ]
  },
  {
   "cell_type": "code",
   "execution_count": 1,
   "id": "613d3858",
   "metadata": {},
   "outputs": [
    {
     "name": "stdout",
     "output_type": "stream",
     "text": [
      "<class 'int'>\n"
     ]
    }
   ],
   "source": [
    "x = 5\n",
    "print(type(x))"
   ]
  },
  {
   "cell_type": "code",
   "execution_count": null,
   "id": "9cd4ea57",
   "metadata": {},
   "outputs": [],
   "source": [
    "x = \"Hello World\"\tstr\t\n",
    "y = 20\tint\t\n",
    "z = 20.5\tfloat\t\n",
    "q = 1j\tcomplex\t\n",
    "a = [\"apple\", \"banana\", \"cherry\"]\tlist\t\n",
    "b = (\"apple\", \"banana\", \"cherry\")\ttuple\t\n",
    "c = range(6)\trange\t\n",
    "d = {\"name\" : \"John\", \"age\" : 36}\tdict\t\n",
    "e = {\"apple\", \"banana\", \"cherry\"}\tset\t\n",
    "f = frozenset({\"apple\", \"banana\", \"cherry\"})\tfrozenset\t\n",
    "g = True\tbool\t\n",
    "h = b\"Hello\"\tbytes\t\n",
    "i = bytearray(5)\tbytearray\t\n",
    "k = memoryview(bytes(5))\tmemoryview\t\n",
    "k = None\tNoneType"
   ]
  },
  {
   "cell_type": "code",
   "execution_count": 2,
   "id": "d48e39f6",
   "metadata": {},
   "outputs": [
    {
     "name": "stdout",
     "output_type": "stream",
     "text": [
      "1\n",
      "<class 'range'>\n"
     ]
    }
   ],
   "source": [
    "x = range(6)\n",
    "\n",
    "#display x:\n",
    "print(x[1])\n",
    "\n",
    "#display the data type of x:\n",
    "print(type(x)) \n"
   ]
  },
  {
   "cell_type": "code",
   "execution_count": 4,
   "id": "96832bea",
   "metadata": {},
   "outputs": [
    {
     "name": "stdout",
     "output_type": "stream",
     "text": [
      "<class 'complex'>\n"
     ]
    }
   ],
   "source": [
    "z = 20 + 4j \n",
    "print(type(z))"
   ]
  },
  {
   "cell_type": "code",
   "execution_count": 5,
   "id": "a4382593",
   "metadata": {},
   "outputs": [],
   "source": [
    "x = frozenset({\"apple\", \"banana\", \"cherry\"})\n"
   ]
  },
  {
   "cell_type": "markdown",
   "id": "5c27a917",
   "metadata": {},
   "source": [
    "Frozen set là một phiên bản bất biến của một đối tượng set trong Python, chỉ khác là phần tử của set có thể được sửa đổi bất cứ lúc nào, còn các phần tử của frozen set vẫn giữ nguyên sau khi tạo."
   ]
  },
  {
   "cell_type": "code",
   "execution_count": 7,
   "id": "bd1b6536",
   "metadata": {},
   "outputs": [
    {
     "name": "stdout",
     "output_type": "stream",
     "text": [
      "frozenset({'apple', 'banana', 'cherry'})\n"
     ]
    }
   ],
   "source": [
    "print(x)\n",
    "#iterable (Tùy chọn): iterable chứa các phần tử để khởi tạo frozenset. Iterable có thể là set, dictionary, tuple... "
   ]
  },
  {
   "cell_type": "markdown",
   "id": "7aaac5a9",
   "metadata": {},
   "source": [
    "## Setting the Specific Data Type"
   ]
  },
  {
   "cell_type": "code",
   "execution_count": 8,
   "id": "b34817f3",
   "metadata": {},
   "outputs": [],
   "source": [
    "x = list((\"banana\", \"apple\",\"coconut\"))"
   ]
  },
  {
   "cell_type": "code",
   "execution_count": 11,
   "id": "c2c380f6",
   "metadata": {},
   "outputs": [],
   "source": [
    "y = tuple((\"banana\", \"apple\",\"coconut\"))"
   ]
  },
  {
   "cell_type": "code",
   "execution_count": 12,
   "id": "56f5cfe8",
   "metadata": {},
   "outputs": [
    {
     "data": {
      "text/plain": [
       "(['banana', 'apple', 'coconut'], ('banana', 'apple', 'coconut'))"
      ]
     },
     "execution_count": 12,
     "metadata": {},
     "output_type": "execute_result"
    }
   ],
   "source": [
    "x, y"
   ]
  },
  {
   "cell_type": "code",
   "execution_count": 14,
   "id": "0c3ab0ed",
   "metadata": {},
   "outputs": [
    {
     "name": "stdout",
     "output_type": "stream",
     "text": [
      "<class 'float'>\n",
      "<class 'float'>\n",
      "<class 'float'>\n"
     ]
    }
   ],
   "source": [
    "x = 35e3\n",
    "y = 12E4\n",
    "z = -87.7e100\n",
    "x\n",
    "print(type(x))\n",
    "print(type(y))\n",
    "print(type(z))"
   ]
  },
  {
   "cell_type": "code",
   "execution_count": 15,
   "id": "9ee83ddf",
   "metadata": {},
   "outputs": [
    {
     "data": {
      "text/plain": [
       "35000.0"
      ]
     },
     "execution_count": 15,
     "metadata": {},
     "output_type": "execute_result"
    }
   ],
   "source": [
    "x"
   ]
  },
  {
   "cell_type": "markdown",
   "id": "3fc126a4",
   "metadata": {},
   "source": [
    "python does not have a random() function to make random number, but python has a build-in module called random"
   ]
  },
  {
   "cell_type": "code",
   "execution_count": 16,
   "id": "0ea6b12a",
   "metadata": {},
   "outputs": [
    {
     "name": "stdout",
     "output_type": "stream",
     "text": [
      "4\n"
     ]
    }
   ],
   "source": [
    "import random \n",
    "print(random.randrange(0, 10))"
   ]
  }
 ],
 "metadata": {
  "kernelspec": {
   "display_name": "Python 3 (ipykernel)",
   "language": "python",
   "name": "python3"
  },
  "language_info": {
   "codemirror_mode": {
    "name": "ipython",
    "version": 3
   },
   "file_extension": ".py",
   "mimetype": "text/x-python",
   "name": "python",
   "nbconvert_exporter": "python",
   "pygments_lexer": "ipython3",
   "version": "3.9.13"
  }
 },
 "nbformat": 4,
 "nbformat_minor": 5
}

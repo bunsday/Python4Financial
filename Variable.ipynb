{
 "cells": [
  {
   "cell_type": "markdown",
   "id": "ede3455d",
   "metadata": {},
   "source": [
    "Variable"
   ]
  },
  {
   "cell_type": "code",
   "execution_count": 1,
   "id": "cbce7ebd",
   "metadata": {},
   "outputs": [],
   "source": [
    "x = 9\n",
    "# x là variable là tên của một vùng nhớ trong bộ nhớ ram được sử dụng để lưu trữ thông tin. \n",
    "# 9 là giá trị của biến x\n"
   ]
  },
  {
   "cell_type": "code",
   "execution_count": 2,
   "id": "c3d65793",
   "metadata": {},
   "outputs": [
    {
     "data": {
      "text/plain": [
       "9"
      ]
     },
     "execution_count": 2,
     "metadata": {},
     "output_type": "execute_result"
    }
   ],
   "source": [
    "x"
   ]
  },
  {
   "cell_type": "code",
   "execution_count": 3,
   "id": "f134df14",
   "metadata": {},
   "outputs": [],
   "source": [
    "x, y = (2, 3)"
   ]
  },
  {
   "cell_type": "code",
   "execution_count": 4,
   "id": "79658e18",
   "metadata": {},
   "outputs": [
    {
     "data": {
      "text/plain": [
       "2"
      ]
     },
     "execution_count": 4,
     "metadata": {},
     "output_type": "execute_result"
    }
   ],
   "source": [
    "x"
   ]
  },
  {
   "cell_type": "code",
   "execution_count": 5,
   "id": "e9889384",
   "metadata": {},
   "outputs": [
    {
     "data": {
      "text/plain": [
       "3"
      ]
     },
     "execution_count": 5,
     "metadata": {},
     "output_type": "execute_result"
    }
   ],
   "source": [
    "y"
   ]
  },
  {
   "cell_type": "code",
   "execution_count": 6,
   "id": "23a32a47",
   "metadata": {},
   "outputs": [],
   "source": [
    "x = str(3)    # x will be '3'\n",
    "y = int(3)    # y will be 3\n",
    "z = float(3)  # z will be 3.0"
   ]
  },
  {
   "cell_type": "code",
   "execution_count": 7,
   "id": "f42c614d",
   "metadata": {},
   "outputs": [],
   "source": [
    "x = \"John\"\n",
    "# is the same as\n",
    "x = 'John'"
   ]
  },
  {
   "cell_type": "code",
   "execution_count": 8,
   "id": "1705a6b0",
   "metadata": {},
   "outputs": [
    {
     "data": {
      "text/plain": [
       "'John'"
      ]
     },
     "execution_count": 8,
     "metadata": {},
     "output_type": "execute_result"
    }
   ],
   "source": [
    "x\n"
   ]
  },
  {
   "cell_type": "code",
   "execution_count": 9,
   "id": "fb860e0c",
   "metadata": {},
   "outputs": [],
   "source": [
    "x = \"John\""
   ]
  },
  {
   "cell_type": "code",
   "execution_count": 10,
   "id": "58743bd0",
   "metadata": {},
   "outputs": [
    {
     "data": {
      "text/plain": [
       "'John'"
      ]
     },
     "execution_count": 10,
     "metadata": {},
     "output_type": "execute_result"
    }
   ],
   "source": [
    "x"
   ]
  },
  {
   "cell_type": "markdown",
   "id": "8bb689dd",
   "metadata": {},
   "source": [
    "Variable Name"
   ]
  },
  {
   "cell_type": "code",
   "execution_count": null,
   "id": "d21efb7a",
   "metadata": {},
   "outputs": [],
   "source": [
    "myvar = \"John\"\n",
    "my_var = \"John\"\n",
    "_my_var = \"John\"\n",
    "myVar = \"John\"\n",
    "MYVAR = \"John\"\n",
    "myvar2 = \"John\""
   ]
  },
  {
   "cell_type": "markdown",
   "id": "9a95150b",
   "metadata": {},
   "source": [
    "Một biến có thể có tên ngắn (như x và y) hoặc tên mô tả hơn (tuổi, carname, total_volume). Quy tắc cho các biến Python:\n",
    "Tên biến phải bắt đầu bằng một chữ cái hoặc ký tự gạch dưới\n",
    "Tên biến không được bắt đầu bằng số\n",
    "Tên biến chỉ có thể chứa các ký tự chữ và số và dấu gạch dưới (Az, 0-9 và _ )\n",
    "Tên biến phân biệt chữ hoa chữ thường (tuổi, Tuổi và TUỔI là ba biến khác nhau)\n",
    "Tên biến không thể là bất kỳ từ khóa Python nào ."
   ]
  },
  {
   "cell_type": "code",
   "execution_count": 11,
   "id": "9f50abfb",
   "metadata": {},
   "outputs": [],
   "source": [
    "x, y, z = \"Chuoi\", \"Tao\", \"OI\""
   ]
  },
  {
   "cell_type": "code",
   "execution_count": 12,
   "id": "1d648e92",
   "metadata": {},
   "outputs": [
    {
     "data": {
      "text/plain": [
       "'Chuoi'"
      ]
     },
     "execution_count": 12,
     "metadata": {},
     "output_type": "execute_result"
    }
   ],
   "source": [
    "x"
   ]
  },
  {
   "cell_type": "markdown",
   "id": "1a02d410",
   "metadata": {},
   "source": [
    "Unpack a Collection"
   ]
  },
  {
   "cell_type": "code",
   "execution_count": 13,
   "id": "77ec1351",
   "metadata": {},
   "outputs": [
    {
     "name": "stdout",
     "output_type": "stream",
     "text": [
      "apple\n",
      "banana\n",
      "cherry\n"
     ]
    }
   ],
   "source": [
    "fruits = [\"apple\", \"banana\", \"cherry\"]\n",
    "x, y, z = fruits\n",
    "print(x)\n",
    "print(y)\n",
    "print(z)"
   ]
  },
  {
   "cell_type": "code",
   "execution_count": 16,
   "id": "f7fbe688",
   "metadata": {},
   "outputs": [
    {
     "name": "stdout",
     "output_type": "stream",
     "text": [
      " Python is awesome\n"
     ]
    }
   ],
   "source": [
    "x = \" Python\"\n",
    "y = \" is\"\n",
    "z = \" awesome\"\n",
    "print(x + y + z)"
   ]
  },
  {
   "cell_type": "markdown",
   "id": "44ace91b",
   "metadata": {},
   "source": [
    "Global Variables "
   ]
  },
  {
   "cell_type": "code",
   "execution_count": null,
   "id": "f4982237",
   "metadata": {},
   "outputs": [],
   "source": [
    "Variables that are created outside of a function (as in all of the examples above) are known as global variables.\n",
    "\n",
    "Global variables can be used by everyone, both inside of functions and outside."
   ]
  },
  {
   "cell_type": "code",
   "execution_count": 18,
   "id": "7a58c64a",
   "metadata": {},
   "outputs": [],
   "source": [
    "x = \"awesome\"\n",
    "def my_func():\n",
    "    print(\"Python is\", x)"
   ]
  },
  {
   "cell_type": "code",
   "execution_count": 19,
   "id": "e13c415b",
   "metadata": {},
   "outputs": [
    {
     "name": "stdout",
     "output_type": "stream",
     "text": [
      "Python is awesome\n"
     ]
    }
   ],
   "source": [
    "my_func()"
   ]
  },
  {
   "cell_type": "markdown",
   "id": "803888dd",
   "metadata": {},
   "source": [
    "The global Keyword\n"
   ]
  },
  {
   "cell_type": "markdown",
   "id": "c1e9f578",
   "metadata": {},
   "source": [
    "Normally, when you create a variable inside a function, that variable is local, and can only be used inside that function.\n",
    "\n",
    "To create a global variable inside a function, you can use the global keyword."
   ]
  },
  {
   "cell_type": "code",
   "execution_count": 20,
   "id": "6cac363c",
   "metadata": {},
   "outputs": [
    {
     "name": "stdout",
     "output_type": "stream",
     "text": [
      "Python is fantastic\n"
     ]
    }
   ],
   "source": [
    "def myfunc():\n",
    "  global x\n",
    "  x = \"fantastic\"\n",
    "\n",
    "myfunc()\n",
    "\n",
    "print(\"Python is \" + x)"
   ]
  }
 ],
 "metadata": {
  "kernelspec": {
   "display_name": "Python 3 (ipykernel)",
   "language": "python",
   "name": "python3"
  },
  "language_info": {
   "codemirror_mode": {
    "name": "ipython",
    "version": 3
   },
   "file_extension": ".py",
   "mimetype": "text/x-python",
   "name": "python",
   "nbconvert_exporter": "python",
   "pygments_lexer": "ipython3",
   "version": "3.9.13"
  }
 },
 "nbformat": 4,
 "nbformat_minor": 5
}

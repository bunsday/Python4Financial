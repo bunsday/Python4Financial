{
 "cells": [
  {
   "cell_type": "code",
   "execution_count": 1,
   "id": "fa5d8a7e",
   "metadata": {},
   "outputs": [],
   "source": [
    "import math"
   ]
  },
  {
   "cell_type": "code",
   "execution_count": 2,
   "id": "c9639f2d",
   "metadata": {},
   "outputs": [
    {
     "data": {
      "text/plain": [
       "8"
      ]
     },
     "execution_count": 2,
     "metadata": {},
     "output_type": "execute_result"
    }
   ],
   "source": [
    "pow(2,3)"
   ]
  },
  {
   "cell_type": "markdown",
   "id": "93debde6",
   "metadata": {},
   "source": [
    "# Package"
   ]
  },
  {
   "cell_type": "code",
   "execution_count": null,
   "id": "dc17278c",
   "metadata": {},
   "outputs": [],
   "source": [
    "# Numpy: array\n",
    "# pandas: Data Frame (timeseries) \n",
    "# matplotlib : Data visualization "
   ]
  },
  {
   "cell_type": "code",
   "execution_count": 4,
   "id": "4f97a049",
   "metadata": {},
   "outputs": [],
   "source": [
    "import numpy as np \n",
    "import pandas as pd \n",
    "import matplotlib as plt "
   ]
  },
  {
   "cell_type": "code",
   "execution_count": 11,
   "id": "3c088f77",
   "metadata": {},
   "outputs": [
    {
     "name": "stdout",
     "output_type": "stream",
     "text": [
      "Collecting pandas-datareader\n",
      "  Downloading pandas_datareader-0.10.0-py3-none-any.whl (109 kB)\n",
      "\u001b[2K     \u001b[90m━━━━━━━━━━━━━━━━━━━━━━━━━━━━━━━━━━━━━━\u001b[0m \u001b[32m109.5/109.5 kB\u001b[0m \u001b[31m61.8 kB/s\u001b[0m eta \u001b[36m0:00:00\u001b[0ma \u001b[36m0:00:01\u001b[0m\n",
      "\u001b[?25hRequirement already satisfied: pandas>=0.23 in /Users/macs/opt/anaconda3/lib/python3.9/site-packages (from pandas-datareader) (1.4.4)\n",
      "Requirement already satisfied: lxml in /Users/macs/opt/anaconda3/lib/python3.9/site-packages (from pandas-datareader) (4.9.1)\n",
      "Requirement already satisfied: requests>=2.19.0 in /Users/macs/opt/anaconda3/lib/python3.9/site-packages (from pandas-datareader) (2.28.1)\n",
      "Requirement already satisfied: python-dateutil>=2.8.1 in /Users/macs/opt/anaconda3/lib/python3.9/site-packages (from pandas>=0.23->pandas-datareader) (2.8.2)\n",
      "Requirement already satisfied: pytz>=2020.1 in /Users/macs/opt/anaconda3/lib/python3.9/site-packages (from pandas>=0.23->pandas-datareader) (2022.1)\n",
      "Requirement already satisfied: numpy>=1.18.5 in /Users/macs/opt/anaconda3/lib/python3.9/site-packages (from pandas>=0.23->pandas-datareader) (1.21.5)\n",
      "Requirement already satisfied: idna<4,>=2.5 in /Users/macs/opt/anaconda3/lib/python3.9/site-packages (from requests>=2.19.0->pandas-datareader) (3.3)\n",
      "Requirement already satisfied: charset-normalizer<3,>=2 in /Users/macs/opt/anaconda3/lib/python3.9/site-packages (from requests>=2.19.0->pandas-datareader) (2.0.4)\n",
      "Requirement already satisfied: certifi>=2017.4.17 in /Users/macs/opt/anaconda3/lib/python3.9/site-packages (from requests>=2.19.0->pandas-datareader) (2022.9.24)\n",
      "Requirement already satisfied: urllib3<1.27,>=1.21.1 in /Users/macs/opt/anaconda3/lib/python3.9/site-packages (from requests>=2.19.0->pandas-datareader) (1.26.11)\n",
      "Requirement already satisfied: six>=1.5 in /Users/macs/opt/anaconda3/lib/python3.9/site-packages (from python-dateutil>=2.8.1->pandas>=0.23->pandas-datareader) (1.16.0)\n",
      "Installing collected packages: pandas-datareader\n",
      "Successfully installed pandas-datareader-0.10.0\n",
      "Note: you may need to restart the kernel to use updated packages.\n"
     ]
    }
   ],
   "source": [
    "pip install pandas-datareader\n"
   ]
  },
  {
   "cell_type": "code",
   "execution_count": 13,
   "id": "710ffa07",
   "metadata": {},
   "outputs": [],
   "source": [
    "import pandas_datareader as web\n"
   ]
  },
  {
   "cell_type": "markdown",
   "id": "57512fe1",
   "metadata": {},
   "source": [
    "# Numpy Array "
   ]
  },
  {
   "cell_type": "code",
   "execution_count": 14,
   "id": "5cebbae2",
   "metadata": {},
   "outputs": [],
   "source": [
    "list_1 = [1, 2, 3, 4, 5]\n"
   ]
  },
  {
   "cell_type": "code",
   "execution_count": 15,
   "id": "4dee44fa",
   "metadata": {},
   "outputs": [
    {
     "data": {
      "text/plain": [
       "array([1, 2, 3, 4, 5])"
      ]
     },
     "execution_count": 15,
     "metadata": {},
     "output_type": "execute_result"
    }
   ],
   "source": [
    "arr_1 = np.array(list_1)\n",
    "arr_1"
   ]
  },
  {
   "cell_type": "code",
   "execution_count": 16,
   "id": "540d3c93",
   "metadata": {},
   "outputs": [
    {
     "data": {
      "text/plain": [
       "numpy.ndarray"
      ]
     },
     "execution_count": 16,
     "metadata": {},
     "output_type": "execute_result"
    }
   ],
   "source": [
    "type(arr_1)"
   ]
  },
  {
   "cell_type": "code",
   "execution_count": 18,
   "id": "cd7f87a3",
   "metadata": {},
   "outputs": [
    {
     "data": {
      "text/plain": [
       "array([[1, 2, 3, 4],\n",
       "       [5, 6, 7, 8]])"
      ]
     },
     "execution_count": 18,
     "metadata": {},
     "output_type": "execute_result"
    }
   ],
   "source": [
    "matrix_1 = [[1, 2, 3, 4], [5, 6, 7, 8]]\n",
    "np.array(matrix_1)"
   ]
  },
  {
   "cell_type": "code",
   "execution_count": null,
   "id": "3d332f2d",
   "metadata": {},
   "outputs": [],
   "source": [
    "# 2 dimentions array \n"
   ]
  },
  {
   "cell_type": "code",
   "execution_count": 19,
   "id": "84bb9c24",
   "metadata": {},
   "outputs": [],
   "source": [
    "# Genarate random number "
   ]
  },
  {
   "cell_type": "code",
   "execution_count": 20,
   "id": "1814987d",
   "metadata": {},
   "outputs": [
    {
     "data": {
      "text/plain": [
       "0.8410274748611503"
      ]
     },
     "execution_count": 20,
     "metadata": {},
     "output_type": "execute_result"
    }
   ],
   "source": [
    "np.random.random()"
   ]
  },
  {
   "cell_type": "code",
   "execution_count": 21,
   "id": "f4b734a5",
   "metadata": {},
   "outputs": [
    {
     "data": {
      "text/plain": [
       "array([0.86413275, 0.3184963 , 0.51346419, 0.82053975, 0.16278835])"
      ]
     },
     "execution_count": 21,
     "metadata": {},
     "output_type": "execute_result"
    }
   ],
   "source": [
    "np.random.random(5)"
   ]
  },
  {
   "cell_type": "code",
   "execution_count": 24,
   "id": "2002d1b4",
   "metadata": {},
   "outputs": [
    {
     "data": {
      "text/plain": [
       "array([[7, 7],\n",
       "       [9, 4]])"
      ]
     },
     "execution_count": 24,
     "metadata": {},
     "output_type": "execute_result"
    }
   ],
   "source": [
    "np.random.randint(0, 10, (2, 2))"
   ]
  },
  {
   "cell_type": "code",
   "execution_count": 26,
   "id": "1027a917",
   "metadata": {},
   "outputs": [
    {
     "data": {
      "text/plain": [
       "array([1, 3])"
      ]
     },
     "execution_count": 26,
     "metadata": {},
     "output_type": "execute_result"
    }
   ],
   "source": [
    "np.arange(1, 5, 2)"
   ]
  },
  {
   "cell_type": "code",
   "execution_count": 28,
   "id": "dfa963cd",
   "metadata": {},
   "outputs": [
    {
     "data": {
      "text/plain": [
       "array(1)"
      ]
     },
     "execution_count": 28,
     "metadata": {},
     "output_type": "execute_result"
    }
   ],
   "source": [
    "np.ones_like(5)"
   ]
  },
  {
   "cell_type": "markdown",
   "id": "b8d6134d",
   "metadata": {},
   "source": [
    "# reshape "
   ]
  },
  {
   "cell_type": "code",
   "execution_count": 30,
   "id": "fbce58d0",
   "metadata": {},
   "outputs": [],
   "source": [
    "array_2 = np.arange(1, 9)"
   ]
  },
  {
   "cell_type": "code",
   "execution_count": 32,
   "id": "c6a39f30",
   "metadata": {},
   "outputs": [
    {
     "data": {
      "text/plain": [
       "(8,)"
      ]
     },
     "execution_count": 32,
     "metadata": {},
     "output_type": "execute_result"
    }
   ],
   "source": [
    "array_2.shape"
   ]
  },
  {
   "cell_type": "code",
   "execution_count": 33,
   "id": "226c1f99",
   "metadata": {},
   "outputs": [
    {
     "data": {
      "text/plain": [
       "array([[1, 2, 3, 4],\n",
       "       [5, 6, 7, 8]])"
      ]
     },
     "execution_count": 33,
     "metadata": {},
     "output_type": "execute_result"
    }
   ],
   "source": [
    "array_2.reshape((2, 4))"
   ]
  },
  {
   "cell_type": "code",
   "execution_count": 35,
   "id": "da8e3668",
   "metadata": {},
   "outputs": [],
   "source": [
    "a = array_2.reshape((4, 2))"
   ]
  },
  {
   "cell_type": "code",
   "execution_count": 36,
   "id": "7882e866",
   "metadata": {},
   "outputs": [
    {
     "data": {
      "text/plain": [
       "(4, 2)"
      ]
     },
     "execution_count": 36,
     "metadata": {},
     "output_type": "execute_result"
    }
   ],
   "source": [
    "a.shape"
   ]
  },
  {
   "cell_type": "markdown",
   "id": "79c0a989",
   "metadata": {},
   "source": [
    "# Numpy Operations "
   ]
  },
  {
   "cell_type": "code",
   "execution_count": 43,
   "id": "d38924d9",
   "metadata": {},
   "outputs": [],
   "source": [
    "array_1 = np.arange(1 , 5)"
   ]
  },
  {
   "cell_type": "code",
   "execution_count": 44,
   "id": "4c8ac4ab",
   "metadata": {},
   "outputs": [
    {
     "data": {
      "text/plain": [
       "array([1, 2, 3, 4])"
      ]
     },
     "execution_count": 44,
     "metadata": {},
     "output_type": "execute_result"
    }
   ],
   "source": [
    "array_1"
   ]
  },
  {
   "cell_type": "code",
   "execution_count": 47,
   "id": "4d7a8f48",
   "metadata": {},
   "outputs": [],
   "source": [
    "array_2 = np.arange(5, 9)"
   ]
  },
  {
   "cell_type": "code",
   "execution_count": 48,
   "id": "34720c4e",
   "metadata": {},
   "outputs": [
    {
     "data": {
      "text/plain": [
       "array([5, 6, 7, 8])"
      ]
     },
     "execution_count": 48,
     "metadata": {},
     "output_type": "execute_result"
    }
   ],
   "source": [
    "array_2"
   ]
  },
  {
   "cell_type": "code",
   "execution_count": 49,
   "id": "2d1eef2d",
   "metadata": {},
   "outputs": [
    {
     "data": {
      "text/plain": [
       "array([ 6,  8, 10, 12])"
      ]
     },
     "execution_count": 49,
     "metadata": {},
     "output_type": "execute_result"
    }
   ],
   "source": [
    "array_1 + array_2"
   ]
  },
  {
   "cell_type": "code",
   "execution_count": null,
   "id": "74c44df9",
   "metadata": {},
   "outputs": [],
   "source": [
    "# if a mount of element both array is diffence some error will apear"
   ]
  },
  {
   "cell_type": "code",
   "execution_count": 50,
   "id": "1aa1df22",
   "metadata": {},
   "outputs": [
    {
     "data": {
      "text/plain": [
       "array([ 5, 12, 21, 32])"
      ]
     },
     "execution_count": 50,
     "metadata": {},
     "output_type": "execute_result"
    }
   ],
   "source": [
    "array_1 * array_2"
   ]
  },
  {
   "cell_type": "code",
   "execution_count": 53,
   "id": "5bb7cae0",
   "metadata": {},
   "outputs": [
    {
     "data": {
      "text/plain": [
       "array([0.2       , 0.33333333, 0.42857143, 0.5       ])"
      ]
     },
     "execution_count": 53,
     "metadata": {},
     "output_type": "execute_result"
    }
   ],
   "source": [
    "\n",
    "array_1/array_2"
   ]
  },
  {
   "cell_type": "markdown",
   "id": "75191a61",
   "metadata": {},
   "source": [
    "# Numpy Indexing "
   ]
  },
  {
   "cell_type": "code",
   "execution_count": 54,
   "id": "3a61678a",
   "metadata": {},
   "outputs": [],
   "source": [
    "array_1 = np.arange(0, 11)"
   ]
  },
  {
   "cell_type": "code",
   "execution_count": 55,
   "id": "35acf23d",
   "metadata": {},
   "outputs": [
    {
     "data": {
      "text/plain": [
       "array([ 0,  1,  2,  3,  4,  5,  6,  7,  8,  9, 10])"
      ]
     },
     "execution_count": 55,
     "metadata": {},
     "output_type": "execute_result"
    }
   ],
   "source": [
    "array_1"
   ]
  },
  {
   "cell_type": "code",
   "execution_count": 60,
   "id": "ac72d5a0",
   "metadata": {},
   "outputs": [
    {
     "data": {
      "text/plain": [
       "2"
      ]
     },
     "execution_count": 60,
     "metadata": {},
     "output_type": "execute_result"
    }
   ],
   "source": [
    "array_1[2]"
   ]
  },
  {
   "cell_type": "code",
   "execution_count": 61,
   "id": "6d771c70",
   "metadata": {},
   "outputs": [
    {
     "data": {
      "text/plain": [
       "array([0, 1, 2])"
      ]
     },
     "execution_count": 61,
     "metadata": {},
     "output_type": "execute_result"
    }
   ],
   "source": [
    "array_1[:3]"
   ]
  },
  {
   "cell_type": "code",
   "execution_count": 62,
   "id": "6475d8bd",
   "metadata": {},
   "outputs": [],
   "source": [
    "# reassign  "
   ]
  },
  {
   "cell_type": "code",
   "execution_count": 64,
   "id": "c16315f7",
   "metadata": {},
   "outputs": [
    {
     "data": {
      "text/plain": [
       "array([ 0, 15, 15, 15, 15,  5,  6,  7,  8,  9, 10])"
      ]
     },
     "execution_count": 64,
     "metadata": {},
     "output_type": "execute_result"
    }
   ],
   "source": [
    "array_1[1:5] = 15\n",
    "array_1"
   ]
  },
  {
   "cell_type": "code",
   "execution_count": 65,
   "id": "ac74baad",
   "metadata": {},
   "outputs": [],
   "source": [
    "arr_copy = array_1.copy()"
   ]
  },
  {
   "cell_type": "code",
   "execution_count": 68,
   "id": "02a2875b",
   "metadata": {},
   "outputs": [
    {
     "data": {
      "text/plain": [
       "array([ 0, 17, 17, 17, 15,  5,  6,  7,  8,  9, 10])"
      ]
     },
     "execution_count": 68,
     "metadata": {},
     "output_type": "execute_result"
    }
   ],
   "source": [
    "arr_copy[1:4] = 17\n",
    "arr_copy"
   ]
  },
  {
   "cell_type": "code",
   "execution_count": 70,
   "id": "220e8b1a",
   "metadata": {},
   "outputs": [
    {
     "data": {
      "text/plain": [
       "array([[3, 5, 7],\n",
       "       [2, 4, 6]])"
      ]
     },
     "execution_count": 70,
     "metadata": {},
     "output_type": "execute_result"
    }
   ],
   "source": [
    "x = np.array([[3, 5, 7], [2, 4, 6]])\n",
    "x"
   ]
  },
  {
   "cell_type": "code",
   "execution_count": 75,
   "id": "7b0ffac7",
   "metadata": {},
   "outputs": [
    {
     "data": {
      "text/plain": [
       "5"
      ]
     },
     "execution_count": 75,
     "metadata": {},
     "output_type": "execute_result"
    }
   ],
   "source": [
    "x[0, 1\n",
    " ]"
   ]
  },
  {
   "cell_type": "code",
   "execution_count": 76,
   "id": "bfea7f31",
   "metadata": {},
   "outputs": [
    {
     "data": {
      "text/plain": [
       "5"
      ]
     },
     "execution_count": 76,
     "metadata": {},
     "output_type": "execute_result"
    }
   ],
   "source": [
    "x[0][1]"
   ]
  },
  {
   "cell_type": "code",
   "execution_count": 77,
   "id": "56dde761",
   "metadata": {},
   "outputs": [
    {
     "data": {
      "text/plain": [
       "6"
      ]
     },
     "execution_count": 77,
     "metadata": {},
     "output_type": "execute_result"
    }
   ],
   "source": [
    "x[1][2]"
   ]
  },
  {
   "cell_type": "markdown",
   "id": "02a6f484",
   "metadata": {},
   "source": [
    "# Conditional Indexing "
   ]
  },
  {
   "cell_type": "code",
   "execution_count": 79,
   "id": "17bd5c85",
   "metadata": {},
   "outputs": [
    {
     "data": {
      "text/plain": [
       "array([ 2,  5,  8, 11, 14, 17])"
      ]
     },
     "execution_count": 79,
     "metadata": {},
     "output_type": "execute_result"
    }
   ],
   "source": [
    "y = np.arange(2, 20, 3)\n",
    "y"
   ]
  },
  {
   "cell_type": "code",
   "execution_count": 80,
   "id": "f9e23b1a",
   "metadata": {},
   "outputs": [],
   "source": [
    "cond = y > 5 "
   ]
  },
  {
   "cell_type": "code",
   "execution_count": 82,
   "id": "8d8bf822",
   "metadata": {},
   "outputs": [
    {
     "data": {
      "text/plain": [
       "array([ 8, 11, 14, 17])"
      ]
     },
     "execution_count": 82,
     "metadata": {},
     "output_type": "execute_result"
    }
   ],
   "source": [
    "y[y>5]"
   ]
  }
 ],
 "metadata": {
  "kernelspec": {
   "display_name": "Python 3 (ipykernel)",
   "language": "python",
   "name": "python3"
  },
  "language_info": {
   "codemirror_mode": {
    "name": "ipython",
    "version": 3
   },
   "file_extension": ".py",
   "mimetype": "text/x-python",
   "name": "python",
   "nbconvert_exporter": "python",
   "pygments_lexer": "ipython3",
   "version": "3.9.13"
  }
 },
 "nbformat": 4,
 "nbformat_minor": 5
}

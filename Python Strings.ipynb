{
 "cells": [
  {
   "cell_type": "markdown",
   "id": "bfbd2560",
   "metadata": {},
   "source": [
    "# Python Strings"
   ]
  },
  {
   "cell_type": "markdown",
   "id": "0d7c91a7",
   "metadata": {},
   "source": [
    "## Strings"
   ]
  },
  {
   "cell_type": "markdown",
   "id": "cef7998d",
   "metadata": {},
   "source": [
    "Strings in python are surrounded by either single quotation marks, or double quotation marks."
   ]
  },
  {
   "cell_type": "markdown",
   "id": "847c7d32",
   "metadata": {},
   "source": [
    "## Multiline Strings"
   ]
  },
  {
   "cell_type": "code",
   "execution_count": 1,
   "id": "d7734bfc",
   "metadata": {},
   "outputs": [
    {
     "name": "stdout",
     "output_type": "stream",
     "text": [
      "I am a student\n",
      "hi\n"
     ]
    }
   ],
   "source": [
    "a = \"\"\"I am a student\n",
    "hi\"\"\"\n",
    "print(a)"
   ]
  },
  {
   "cell_type": "markdown",
   "id": "20465d31",
   "metadata": {},
   "source": [
    "## Strings are Arrays"
   ]
  },
  {
   "cell_type": "markdown",
   "id": "645ff736",
   "metadata": {},
   "source": [
    "Like many other popular programming languages, strings in Python are arrays of bytes representing unicode characters.\n",
    "\n",
    "However, Python does not have a character data type, a single character is simply a string with a length of 1.\n",
    "\n",
    "Square brackets can be used to access elements of the string."
   ]
  },
  {
   "cell_type": "code",
   "execution_count": 2,
   "id": "99ac7047",
   "metadata": {},
   "outputs": [
    {
     "name": "stdout",
     "output_type": "stream",
     "text": [
      "e\n"
     ]
    }
   ],
   "source": [
    "a = \"Hello, World!\"\n",
    "print(a[1])"
   ]
  },
  {
   "cell_type": "markdown",
   "id": "78bf6207",
   "metadata": {},
   "source": [
    "## Looping through a String\n"
   ]
  },
  {
   "cell_type": "code",
   "execution_count": 3,
   "id": "7b7ad847",
   "metadata": {},
   "outputs": [
    {
     "name": "stdout",
     "output_type": "stream",
     "text": [
      "b\n",
      "a\n",
      "n\n",
      "a\n",
      "n\n",
      "a\n"
     ]
    }
   ],
   "source": [
    "for x in \"banana\":\n",
    "    print(x)"
   ]
  },
  {
   "cell_type": "code",
   "execution_count": 4,
   "id": "bdf8eaae",
   "metadata": {},
   "outputs": [
    {
     "name": "stdout",
     "output_type": "stream",
     "text": [
      "6\n"
     ]
    }
   ],
   "source": [
    "x = \"banana\"\n",
    "print(len(x))"
   ]
  },
  {
   "cell_type": "markdown",
   "id": "777a662b",
   "metadata": {},
   "source": [
    "## Check String"
   ]
  },
  {
   "cell_type": "markdown",
   "id": "059d1d8e",
   "metadata": {},
   "source": [
    "To check if a certain phrase or character is present in a string, we can use the keyword in."
   ]
  },
  {
   "cell_type": "code",
   "execution_count": 6,
   "id": "87456d1e",
   "metadata": {},
   "outputs": [
    {
     "name": "stdout",
     "output_type": "stream",
     "text": [
      "True\n"
     ]
    }
   ],
   "source": [
    "txt = \"The best things in life are free!\"\n",
    "print(\"free\" in txt)"
   ]
  },
  {
   "cell_type": "markdown",
   "id": "ac639f41",
   "metadata": {},
   "source": [
    "# Check if Not "
   ]
  },
  {
   "cell_type": "code",
   "execution_count": 8,
   "id": "a66473e6",
   "metadata": {},
   "outputs": [
    {
     "name": "stdout",
     "output_type": "stream",
     "text": [
      "expensive is present\n"
     ]
    }
   ],
   "source": [
    "txt = \"The best things in life are expensive!\"\n",
    "if \"expensive\" not in txt:\n",
    "  print(\"No, 'expensive' is NOT present.\")\n",
    "else: \n",
    "    print(\"expensive is present\")"
   ]
  },
  {
   "cell_type": "markdown",
   "id": "02788f0f",
   "metadata": {},
   "source": [
    "# Slicing String "
   ]
  },
  {
   "cell_type": "code",
   "execution_count": 12,
   "id": "8d26ca84",
   "metadata": {},
   "outputs": [
    {
     "name": "stdout",
     "output_type": "stream",
     "text": [
      "llo, W\n"
     ]
    }
   ],
   "source": [
    "b = \"Hello, World!\"\n",
    "print(b[2:8])"
   ]
  },
  {
   "cell_type": "markdown",
   "id": "891c86f7",
   "metadata": {},
   "source": [
    "## Slice From the Start"
   ]
  },
  {
   "cell_type": "code",
   "execution_count": 13,
   "id": "8b88d3ee",
   "metadata": {},
   "outputs": [
    {
     "data": {
      "text/plain": [
       "'Hello'"
      ]
     },
     "execution_count": 13,
     "metadata": {},
     "output_type": "execute_result"
    }
   ],
   "source": [
    "b[:5]"
   ]
  },
  {
   "cell_type": "markdown",
   "id": "039b68f9",
   "metadata": {},
   "source": [
    "Get the characters from the start to position 5 (not included):"
   ]
  },
  {
   "cell_type": "markdown",
   "id": "667b2b92",
   "metadata": {},
   "source": [
    "# Slice To the End"
   ]
  },
  {
   "cell_type": "code",
   "execution_count": 14,
   "id": "c88b8131",
   "metadata": {},
   "outputs": [
    {
     "data": {
      "text/plain": [
       "'llo, World!'"
      ]
     },
     "execution_count": 14,
     "metadata": {},
     "output_type": "execute_result"
    }
   ],
   "source": [
    "b[2:]"
   ]
  },
  {
   "cell_type": "markdown",
   "id": "e0d3c519",
   "metadata": {},
   "source": [
    "## Negative Indexing"
   ]
  },
  {
   "cell_type": "code",
   "execution_count": null,
   "id": "f32605e1",
   "metadata": {},
   "outputs": [],
   "source": [
    "Get the characters:\n",
    "\n",
    "From: \"o\" in \"World!\" (position -5)\n",
    "\n",
    "To, but not included: \"d\" in \"World!\" (position -2):"
   ]
  },
  {
   "cell_type": "code",
   "execution_count": 15,
   "id": "66b6d726",
   "metadata": {},
   "outputs": [
    {
     "name": "stdout",
     "output_type": "stream",
     "text": [
      "orl\n"
     ]
    }
   ],
   "source": [
    "b = \"Hello, World!\"\n",
    "print(b[-5:-2])"
   ]
  },
  {
   "cell_type": "markdown",
   "id": "95a05744",
   "metadata": {},
   "source": [
    "# Python - Modify Strings"
   ]
  },
  {
   "cell_type": "markdown",
   "id": "d7fe3612",
   "metadata": {},
   "source": [
    "Python has a set of built-in methods that you can use on strings."
   ]
  },
  {
   "cell_type": "markdown",
   "id": "083afd3d",
   "metadata": {},
   "source": [
    "# Upper Case"
   ]
  },
  {
   "cell_type": "code",
   "execution_count": 17,
   "id": "924d21bf",
   "metadata": {},
   "outputs": [
    {
     "name": "stdout",
     "output_type": "stream",
     "text": [
      "HELLO, YOUTUBE\n"
     ]
    }
   ],
   "source": [
    "a = \"Hello, youtube\"\n",
    "print(a.upper())"
   ]
  },
  {
   "cell_type": "markdown",
   "id": "73676ea9",
   "metadata": {},
   "source": [
    "## Lower Case"
   ]
  },
  {
   "cell_type": "code",
   "execution_count": 18,
   "id": "3b99e7d4",
   "metadata": {},
   "outputs": [
    {
     "name": "stdout",
     "output_type": "stream",
     "text": [
      "hello, youtube\n"
     ]
    }
   ],
   "source": [
    "print(a.lower())"
   ]
  },
  {
   "cell_type": "markdown",
   "id": "7b7bae0e",
   "metadata": {},
   "source": [
    "# Remove Whitespace"
   ]
  },
  {
   "cell_type": "markdown",
   "id": "814580a9",
   "metadata": {},
   "source": [
    "Whitespace is the space before and/or after the actual text, and very often you want to remove this space."
   ]
  },
  {
   "cell_type": "code",
   "execution_count": 21,
   "id": "63f41fce",
   "metadata": {},
   "outputs": [
    {
     "name": "stdout",
     "output_type": "stream",
     "text": [
      "Hello, World!\n"
     ]
    }
   ],
   "source": [
    "a = \" Hello, World! \"\n",
    "print(a.strip()) # returns \"Hello, World!\""
   ]
  },
  {
   "cell_type": "markdown",
   "id": "0a6f7a09",
   "metadata": {},
   "source": [
    "## Replace String"
   ]
  },
  {
   "cell_type": "markdown",
   "id": "482d8eab",
   "metadata": {},
   "source": [
    "The replace() method replaces a string with another string:"
   ]
  },
  {
   "cell_type": "code",
   "execution_count": 23,
   "id": "e811eac5",
   "metadata": {},
   "outputs": [
    {
     "name": "stdout",
     "output_type": "stream",
     "text": [
      "Jello, World!\n"
     ]
    }
   ],
   "source": [
    "a = \"Hello, World!\"\n",
    "print(a.replace(\"H\", \"J\"))"
   ]
  },
  {
   "cell_type": "markdown",
   "id": "f82d38d2",
   "metadata": {},
   "source": [
    "# Split String"
   ]
  },
  {
   "cell_type": "code",
   "execution_count": null,
   "id": "7d170aff",
   "metadata": {},
   "outputs": [],
   "source": [
    "The split() method returns a list where the text between the specified separator becomes the list items."
   ]
  },
  {
   "cell_type": "code",
   "execution_count": 25,
   "id": "e43b9c2f",
   "metadata": {},
   "outputs": [
    {
     "name": "stdout",
     "output_type": "stream",
     "text": [
      "['Hell', ', W', 'rld!']\n"
     ]
    }
   ],
   "source": [
    "a = \"Hello, World!\"\n",
    "print(a.split(\"o\")) # returns ['Hello', ' World!']"
   ]
  },
  {
   "cell_type": "markdown",
   "id": "6fb9c516",
   "metadata": {},
   "source": [
    "## Python - String Concatenation"
   ]
  },
  {
   "cell_type": "code",
   "execution_count": 26,
   "id": "254ea4fb",
   "metadata": {},
   "outputs": [
    {
     "name": "stdout",
     "output_type": "stream",
     "text": [
      "My name is John, I am 36\n"
     ]
    }
   ],
   "source": [
    "age = str(36)\n",
    "txt = \"My name is John, I am \" + age\n",
    "print(txt)"
   ]
  },
  {
   "cell_type": "code",
   "execution_count": 27,
   "id": "2c8975f0",
   "metadata": {},
   "outputs": [
    {
     "name": "stdout",
     "output_type": "stream",
     "text": [
      "My name is John, and I am 36\n"
     ]
    }
   ],
   "source": [
    "age = 36\n",
    "txt = \"My name is John, and I am {}\"\n",
    "print(txt.format(age))"
   ]
  },
  {
   "cell_type": "markdown",
   "id": "3a8b3464",
   "metadata": {},
   "source": [
    "The format() method takes the passed arguments, formats them, and places them in the string where the placeholders {} are:"
   ]
  },
  {
   "cell_type": "code",
   "execution_count": 28,
   "id": "dd3dd2ad",
   "metadata": {},
   "outputs": [
    {
     "name": "stdout",
     "output_type": "stream",
     "text": [
      "I want 3 pieces of item 567 for 49.95 dollars.\n",
      "I want 3 pices of item 566 for 49.95 dorlars.\n"
     ]
    }
   ],
   "source": [
    "quantity = 3\n",
    "itemno = 567\n",
    "price = 49.95\n",
    "myorder = \"I want {} pieces of item {} for {} dollars.\"\n",
    "print(myorder.format(quantity, itemno, price))\n",
    "quantity = 3 \n",
    "temno = 566\n",
    "price = 49.95 \n",
    "myorder = \"I want {} pices of item {} for {} dorlars.\"\n",
    "print(myorder.format(quantity, temno, price))"
   ]
  },
  {
   "cell_type": "markdown",
   "id": "12bd75d7",
   "metadata": {},
   "source": [
    "## Escape Characte"
   ]
  },
  {
   "cell_type": "code",
   "execution_count": null,
   "id": "923355e0",
   "metadata": {},
   "outputs": [],
   "source": []
  },
  {
   "cell_type": "markdown",
   "id": "5e9b0029",
   "metadata": {},
   "source": [
    "To insert characters that are illegal in a string, use an escape character.\n",
    "\n",
    "An escape character is a backslash \\ followed by the character you want to insert.\n",
    "\n",
    "An example of an illegal character is a double quote inside a string that is surrounded by double quotes:"
   ]
  },
  {
   "cell_type": "code",
   "execution_count": 31,
   "id": "f4f72aa2",
   "metadata": {},
   "outputs": [],
   "source": [
    "txt = \"If you do not work hard like \\\"Bees \\\", you will unemployment.\""
   ]
  },
  {
   "cell_type": "code",
   "execution_count": 32,
   "id": "8ada52fc",
   "metadata": {},
   "outputs": [
    {
     "data": {
      "text/plain": [
       "'If you do not work hard like \"Bees \", you will unemployment.'"
      ]
     },
     "execution_count": 32,
     "metadata": {},
     "output_type": "execute_result"
    }
   ],
   "source": [
    "txt"
   ]
  },
  {
   "cell_type": "code",
   "execution_count": 33,
   "id": "04ea10a0",
   "metadata": {},
   "outputs": [
    {
     "name": "stdout",
     "output_type": "stream",
     "text": [
      "It's alright.\n"
     ]
    }
   ],
   "source": [
    "txt = 'It\\'s alright.'\n",
    "print(txt) "
   ]
  },
  {
   "cell_type": "code",
   "execution_count": 34,
   "id": "e9985551",
   "metadata": {},
   "outputs": [
    {
     "name": "stdout",
     "output_type": "stream",
     "text": [
      "This will insert one \\ (backslash).\n"
     ]
    }
   ],
   "source": [
    "txt = \"This will insert one \\\\ (backslash).\"\n",
    "print(txt) "
   ]
  },
  {
   "cell_type": "code",
   "execution_count": 35,
   "id": "d94de690",
   "metadata": {},
   "outputs": [
    {
     "name": "stdout",
     "output_type": "stream",
     "text": [
      "Hello\n",
      "World!\n"
     ]
    }
   ],
   "source": [
    "txt = \"Hello\\nWorld!\"\n",
    "print(txt) "
   ]
  },
  {
   "cell_type": "code",
   "execution_count": 36,
   "id": "fc91e88d",
   "metadata": {},
   "outputs": [
    {
     "name": "stdout",
     "output_type": "stream",
     "text": [
      "Hello\n"
     ]
    }
   ],
   "source": [
    "#A backslash followed by three integers will result in a octal value:\n",
    "txt = \"\\110\\145\\154\\154\\157\"\n",
    "print(txt) "
   ]
  },
  {
   "cell_type": "markdown",
   "id": "86ec91c3",
   "metadata": {},
   "source": [
    "# String Methods "
   ]
  },
  {
   "cell_type": "code",
   "execution_count": 40,
   "id": "5ccf7e51",
   "metadata": {},
   "outputs": [
    {
     "data": {
      "text/plain": [
       "\"Hi, i'm a python developer!\""
      ]
     },
     "execution_count": 40,
     "metadata": {},
     "output_type": "execute_result"
    }
   ],
   "source": [
    "txt =\"hi, i'm a Python developer!\"\n",
    "txt.capitalize() #converts the first character to upper case "
   ]
  },
  {
   "cell_type": "code",
   "execution_count": 48,
   "id": "1aa8f4c8",
   "metadata": {},
   "outputs": [
    {
     "data": {
      "text/plain": [
       "\"hi, i'm a python developer!\""
      ]
     },
     "execution_count": 48,
     "metadata": {},
     "output_type": "execute_result"
    }
   ],
   "source": [
    "a = txt.upper()\n",
    "a.casefold()"
   ]
  },
  {
   "cell_type": "code",
   "execution_count": null,
   "id": "4f528c38",
   "metadata": {},
   "outputs": [],
   "source": []
  }
 ],
 "metadata": {
  "kernelspec": {
   "display_name": "Python 3 (ipykernel)",
   "language": "python",
   "name": "python3"
  },
  "language_info": {
   "codemirror_mode": {
    "name": "ipython",
    "version": 3
   },
   "file_extension": ".py",
   "mimetype": "text/x-python",
   "name": "python",
   "nbconvert_exporter": "python",
   "pygments_lexer": "ipython3",
   "version": "3.9.13"
  }
 },
 "nbformat": 4,
 "nbformat_minor": 5
}

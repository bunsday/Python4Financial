{
 "cells": [
  {
   "cell_type": "code",
   "execution_count": 1,
   "id": "3200407a",
   "metadata": {},
   "outputs": [],
   "source": [
    "import pandas as pd "
   ]
  },
  {
   "cell_type": "code",
   "execution_count": 3,
   "id": "e76c8c12",
   "metadata": {},
   "outputs": [],
   "source": [
    "list_1 = [1, 2, 3, 4, 5]\n",
    "x = pd.Series(list_1)"
   ]
  },
  {
   "cell_type": "code",
   "execution_count": 4,
   "id": "2be54e06",
   "metadata": {},
   "outputs": [
    {
     "data": {
      "text/plain": [
       "0    1\n",
       "1    2\n",
       "2    3\n",
       "3    4\n",
       "4    5\n",
       "dtype: int64"
      ]
     },
     "execution_count": 4,
     "metadata": {},
     "output_type": "execute_result"
    }
   ],
   "source": [
    "x"
   ]
  },
  {
   "cell_type": "code",
   "execution_count": 5,
   "id": "6b3f3d09",
   "metadata": {},
   "outputs": [
    {
     "data": {
      "text/plain": [
       "pandas.core.series.Series"
      ]
     },
     "execution_count": 5,
     "metadata": {},
     "output_type": "execute_result"
    }
   ],
   "source": [
    "type(x)"
   ]
  },
  {
   "cell_type": "code",
   "execution_count": 6,
   "id": "6b484d71",
   "metadata": {},
   "outputs": [],
   "source": [
    "new_list = [51, 60, 61, 62, 72]"
   ]
  },
  {
   "cell_type": "code",
   "execution_count": 13,
   "id": "b5e378d9",
   "metadata": {},
   "outputs": [],
   "source": [
    "labels = ['HCM', 'DN', 'BD', 'LA', 'VT']\n"
   ]
  },
  {
   "cell_type": "code",
   "execution_count": 14,
   "id": "d4aafb42",
   "metadata": {},
   "outputs": [],
   "source": [
    "series_1 = pd.Series(new_list, labels)"
   ]
  },
  {
   "cell_type": "code",
   "execution_count": 15,
   "id": "52df0326",
   "metadata": {},
   "outputs": [
    {
     "data": {
      "text/plain": [
       "HCM    51\n",
       "DN     60\n",
       "BD     61\n",
       "LA     62\n",
       "VT     72\n",
       "dtype: int64"
      ]
     },
     "execution_count": 15,
     "metadata": {},
     "output_type": "execute_result"
    }
   ],
   "source": [
    "series_1"
   ]
  },
  {
   "cell_type": "code",
   "execution_count": null,
   "id": "9e856152",
   "metadata": {},
   "outputs": [],
   "source": []
  },
  {
   "cell_type": "code",
   "execution_count": null,
   "id": "92139373",
   "metadata": {},
   "outputs": [],
   "source": []
  }
 ],
 "metadata": {
  "kernelspec": {
   "display_name": "Python 3 (ipykernel)",
   "language": "python",
   "name": "python3"
  },
  "language_info": {
   "codemirror_mode": {
    "name": "ipython",
    "version": 3
   },
   "file_extension": ".py",
   "mimetype": "text/x-python",
   "name": "python",
   "nbconvert_exporter": "python",
   "pygments_lexer": "ipython3",
   "version": "3.9.13"
  }
 },
 "nbformat": 4,
 "nbformat_minor": 5
}

{
 "cells": [
  {
   "cell_type": "markdown",
   "id": "3f6bef32",
   "metadata": {},
   "source": [
    "# List Items \n"
   ]
  },
  {
   "cell_type": "code",
   "execution_count": null,
   "id": "01b90486",
   "metadata": {},
   "outputs": [],
   "source": []
  },
  {
   "cell_type": "markdown",
   "id": "b3677528",
   "metadata": {},
   "source": [
    "List items are ordered, changeable and allow dupplicate value. "
   ]
  },
  {
   "cell_type": "code",
   "execution_count": null,
   "id": "cb240cc0",
   "metadata": {},
   "outputs": [],
   "source": [
    "List item are indexed, the first item has index [0], and the second item has index [1]. "
   ]
  },
  {
   "cell_type": "markdown",
   "id": "019117cc",
   "metadata": {},
   "source": [
    "# Ordered "
   ]
  },
  {
   "cell_type": "code",
   "execution_count": null,
   "id": "a6ade0bf",
   "metadata": {},
   "outputs": [],
   "source": [
    "We say list items are ordered, it means that the items have defined order and that order will not change. \n",
    "If you add new item to a list, the new item will be placed at the end of list. "
   ]
  },
  {
   "cell_type": "markdown",
   "id": "3df64d27",
   "metadata": {},
   "source": [
    "# Changable "
   ]
  },
  {
   "cell_type": "markdown",
   "id": "e45fce38",
   "metadata": {},
   "source": [
    "List can changealbe it means we can change add, remove items in a list after it has been created. "
   ]
  },
  {
   "cell_type": "markdown",
   "id": "651af9a1",
   "metadata": {},
   "source": [
    "# Allow Duplicates"
   ]
  },
  {
   "cell_type": "code",
   "execution_count": 7,
   "id": "012ab167",
   "metadata": {},
   "outputs": [
    {
     "name": "stdout",
     "output_type": "stream",
     "text": [
      "['apple', 'banana', 'cherry', 'apple', 'cherry']\n"
     ]
    }
   ],
   "source": [
    "thislist = [\"apple\", \"banana\", \"cherry\", \"apple\", \"cherry\"]\n",
    "print(thislist)\n"
   ]
  },
  {
   "cell_type": "code",
   "execution_count": 8,
   "id": "9acbe3c4",
   "metadata": {},
   "outputs": [
    {
     "name": "stdout",
     "output_type": "stream",
     "text": [
      "5\n"
     ]
    }
   ],
   "source": [
    "print(len(thislist))"
   ]
  },
  {
   "cell_type": "code",
   "execution_count": 9,
   "id": "08c7b5f5",
   "metadata": {},
   "outputs": [
    {
     "data": {
      "text/plain": [
       "'apple'"
      ]
     },
     "execution_count": 9,
     "metadata": {},
     "output_type": "execute_result"
    }
   ],
   "source": [
    "thislist[0]"
   ]
  },
  {
   "cell_type": "code",
   "execution_count": 20,
   "id": "1b6da418",
   "metadata": {},
   "outputs": [
    {
     "name": "stdout",
     "output_type": "stream",
     "text": [
      "apple\n",
      "banana\n",
      "cherry\n",
      "apple\n",
      "cherry\n"
     ]
    }
   ],
   "source": [
    "for i in range(len(thislist)):\n",
    "    print(thislist[i])"
   ]
  },
  {
   "cell_type": "markdown",
   "id": "b01b08dc",
   "metadata": {},
   "source": [
    "# Change value of item "
   ]
  },
  {
   "cell_type": "code",
   "execution_count": 10,
   "id": "ec548e7e",
   "metadata": {},
   "outputs": [
    {
     "name": "stdout",
     "output_type": "stream",
     "text": [
      "[1, 'truong', 3, '4']\n",
      "<class 'str'>\n"
     ]
    }
   ],
   "source": [
    "list_1 = [1, 2, 3, \"4\"]\n",
    "list_1[1] = \"truong\"\n",
    "print(list_1)\n",
    "print(type(list_1[3]))"
   ]
  },
  {
   "cell_type": "markdown",
   "id": "51d3a269",
   "metadata": {},
   "source": [
    "# Change a range of item value "
   ]
  },
  {
   "cell_type": "code",
   "execution_count": 15,
   "id": "4d8003d9",
   "metadata": {},
   "outputs": [
    {
     "name": "stdout",
     "output_type": "stream",
     "text": [
      "['apple', 'blackcurrant', 'watermelon', '2', '2', '3', 'orange', 'kiwi', 'mango']\n"
     ]
    }
   ],
   "source": [
    "thislist = [\"apple\", \"banana\", \"cherry\", \"orange\", \"kiwi\", \"mango\"]\n",
    "thislist[1:3] = [\"blackcurrant\", \"watermelon\",\"2\",\"2\",\"3\"]\n",
    "print(thislist)"
   ]
  },
  {
   "cell_type": "markdown",
   "id": "379fe4ba",
   "metadata": {},
   "source": [
    "# Insert Item "
   ]
  },
  {
   "cell_type": "markdown",
   "id": "8f87f724",
   "metadata": {},
   "source": [
    "To insert a new list item, without relapcing any of the existing value, we can use \"insert()\" method\n",
    "The insert() method inserts an item at the specified index:"
   ]
  },
  {
   "cell_type": "code",
   "execution_count": 18,
   "id": "82278816",
   "metadata": {},
   "outputs": [
    {
     "name": "stdout",
     "output_type": "stream",
     "text": [
      "[1, 2, 5, 3, 4, 5]\n"
     ]
    }
   ],
   "source": [
    "list_2 = [1, 2, 3, 4 , 5]\n",
    "list_2.insert(2, 5)\n",
    "print(list_2)"
   ]
  },
  {
   "cell_type": "markdown",
   "id": "ad9a953c",
   "metadata": {},
   "source": [
    "# Append items "
   ]
  },
  {
   "cell_type": "raw",
   "id": "8637edbb",
   "metadata": {},
   "source": [
    "To add the item to the end of the list, we can use \"append\" method. "
   ]
  },
  {
   "cell_type": "code",
   "execution_count": 19,
   "id": "946f42b9",
   "metadata": {},
   "outputs": [
    {
     "name": "stdout",
     "output_type": "stream",
     "text": [
      "[1, 2, 323, 24, 'orage']\n"
     ]
    }
   ],
   "source": [
    "list_3 = [1, 2,323 , 24]\n",
    "list_3.append(\"orage\")\n",
    "print(list_3)"
   ]
  },
  {
   "cell_type": "markdown",
   "id": "da57c46d",
   "metadata": {},
   "source": [
    "# Extend list "
   ]
  },
  {
   "cell_type": "code",
   "execution_count": 20,
   "id": "56ab2a29",
   "metadata": {},
   "outputs": [
    {
     "name": "stdout",
     "output_type": "stream",
     "text": [
      "['apple', 'banana', 'cherry', 'mango', 'pineapple', 'papaya']\n"
     ]
    }
   ],
   "source": [
    "thislist = [\"apple\", \"banana\", \"cherry\"]\n",
    "tropical = [\"mango\", \"pineapple\", \"papaya\"]\n",
    "thislist.extend(tropical)\n",
    "print(thislist)"
   ]
  },
  {
   "cell_type": "markdown",
   "id": "f174ca1b",
   "metadata": {},
   "source": [
    "# Add Any Iterable"
   ]
  },
  {
   "cell_type": "markdown",
   "id": "53995487",
   "metadata": {},
   "source": [
    "The extend() method does not have to append lists, you can add any iterable object (tuples, sets, dictionaries etc. "
   ]
  },
  {
   "cell_type": "code",
   "execution_count": 21,
   "id": "e9629759",
   "metadata": {},
   "outputs": [
    {
     "name": "stdout",
     "output_type": "stream",
     "text": [
      "['apple', 'banana', 'cherry', 'kiwi', 'orange']\n"
     ]
    }
   ],
   "source": [
    "thislist = [\"apple\", \"banana\", \"cherry\"]\n",
    "thistuple = (\"kiwi\", \"orange\")\n",
    "thislist.extend(thistuple)\n",
    "print(thislist)"
   ]
  },
  {
   "cell_type": "markdown",
   "id": "4910e562",
   "metadata": {},
   "source": [
    "# Remove Specified Item "
   ]
  },
  {
   "cell_type": "code",
   "execution_count": 22,
   "id": "ba2c515e",
   "metadata": {},
   "outputs": [
    {
     "name": "stdout",
     "output_type": "stream",
     "text": [
      "['banana', 'cherry', 'kiwi', 'orange']\n"
     ]
    }
   ],
   "source": [
    "thislist.remove(\"apple\")\n",
    "print(thislist)"
   ]
  },
  {
   "cell_type": "markdown",
   "id": "7c516326",
   "metadata": {},
   "source": [
    "# Remove specified index "
   ]
  },
  {
   "cell_type": "code",
   "execution_count": null,
   "id": "b1bfafda",
   "metadata": {},
   "outputs": [],
   "source": [
    "The pop() method removes the specified index. "
   ]
  },
  {
   "cell_type": "code",
   "execution_count": 23,
   "id": "31ac062e",
   "metadata": {},
   "outputs": [
    {
     "name": "stdout",
     "output_type": "stream",
     "text": [
      "['apple', 'cherry']\n"
     ]
    }
   ],
   "source": [
    "thislist = [\"apple\", \"banana\", \"cherry\"]\n",
    "thislist.pop(1)\n",
    "print(thislist)"
   ]
  },
  {
   "cell_type": "code",
   "execution_count": null,
   "id": "93c596ce",
   "metadata": {},
   "outputs": [],
   "source": [
    "If you do not specify the index, the pop() method removes the last item."
   ]
  },
  {
   "cell_type": "code",
   "execution_count": null,
   "id": "c3733bc3",
   "metadata": {},
   "outputs": [],
   "source": [
    "The del keyword also remove the specifed index\n"
   ]
  },
  {
   "cell_type": "code",
   "execution_count": 24,
   "id": "74d13881",
   "metadata": {},
   "outputs": [
    {
     "name": "stdout",
     "output_type": "stream",
     "text": [
      "['banana', 'cherry']\n"
     ]
    }
   ],
   "source": [
    "thislist = [\"apple\", \"banana\", \"cherry\"]\n",
    "del thislist[0]\n",
    "print(thislist)"
   ]
  },
  {
   "cell_type": "markdown",
   "id": "938f2c6a",
   "metadata": {},
   "source": [
    "# Clear list \n"
   ]
  },
  {
   "cell_type": "code",
   "execution_count": null,
   "id": "b385a30a",
   "metadata": {},
   "outputs": [],
   "source": [
    "The clear() method empties the list.\n",
    "\n",
    "The list still remains, but it has no content."
   ]
  },
  {
   "cell_type": "code",
   "execution_count": 26,
   "id": "e535d3b8",
   "metadata": {},
   "outputs": [
    {
     "name": "stdout",
     "output_type": "stream",
     "text": [
      "[]\n"
     ]
    }
   ],
   "source": [
    "thislist = [\"apple\", \"banana\", \"cherry\"]\n",
    "thislist.clear()\n",
    "print(thislist)"
   ]
  },
  {
   "cell_type": "markdown",
   "id": "ee3587e2",
   "metadata": {},
   "source": [
    "# Loop "
   ]
  },
  {
   "cell_type": "code",
   "execution_count": 27,
   "id": "5ad75504",
   "metadata": {},
   "outputs": [
    {
     "name": "stdout",
     "output_type": "stream",
     "text": [
      "apple\n",
      "banana\n",
      "cherry\n"
     ]
    }
   ],
   "source": [
    "thislist = [\"apple\", \"banana\", \"cherry\"]\n",
    "for x in thislist:\n",
    "  print(x)"
   ]
  },
  {
   "cell_type": "code",
   "execution_count": 28,
   "id": "daf46a87",
   "metadata": {},
   "outputs": [
    {
     "name": "stdout",
     "output_type": "stream",
     "text": [
      "apple\n",
      "banana\n",
      "cherry\n"
     ]
    }
   ],
   "source": [
    "for i in range(len(thislist)):\n",
    "    print(thislist[i])"
   ]
  },
  {
   "cell_type": "code",
   "execution_count": 34,
   "id": "6b696fa1",
   "metadata": {},
   "outputs": [
    {
     "name": "stdout",
     "output_type": "stream",
     "text": [
      "['apple', 'banana', 'cherry', <class 'list'>, <class 'list'>, <class 'list'>, ['mango', 'pineapple', 'papaya'], 'mango', 'pineapple', 'papaya']\n"
     ]
    }
   ],
   "source": [
    "thislist.extend(tropical)\n",
    "print(thislist)"
   ]
  },
  {
   "cell_type": "code",
   "execution_count": 35,
   "id": "1a0d1d1a",
   "metadata": {},
   "outputs": [
    {
     "name": "stdout",
     "output_type": "stream",
     "text": [
      "apple\n",
      "banana\n",
      "cherry\n",
      "<class 'list'>\n",
      "<class 'list'>\n",
      "<class 'list'>\n",
      "['mango', 'pineapple', 'papaya']\n",
      "mango\n",
      "pineapple\n",
      "papaya\n"
     ]
    }
   ],
   "source": [
    "i = 0 \n",
    "while i < len(thislist):\n",
    "    print(thislist[i])\n",
    "    i += 1"
   ]
  },
  {
   "cell_type": "code",
   "execution_count": 37,
   "id": "d9742a17",
   "metadata": {},
   "outputs": [
    {
     "name": "stdout",
     "output_type": "stream",
     "text": [
      "apple\n",
      "banana\n",
      "cherry\n",
      "<class 'list'>\n",
      "<class 'list'>\n",
      "<class 'list'>\n",
      "['mango', 'pineapple', 'papaya']\n",
      "mango\n",
      "pineapple\n",
      "papaya\n"
     ]
    },
    {
     "data": {
      "text/plain": [
       "[None, None, None, None, None, None, None, None, None, None]"
      ]
     },
     "execution_count": 37,
     "metadata": {},
     "output_type": "execute_result"
    }
   ],
   "source": [
    "[print(x) for x in thislist]"
   ]
  },
  {
   "cell_type": "markdown",
   "id": "ee2d0c9b",
   "metadata": {},
   "source": [
    "# List Comprehension"
   ]
  },
  {
   "cell_type": "code",
   "execution_count": 3,
   "id": "f838389f",
   "metadata": {},
   "outputs": [
    {
     "name": "stdout",
     "output_type": "stream",
     "text": [
      "['apple', 'Ambarella', 'apricot', 'banana']\n"
     ]
    }
   ],
   "source": [
    "fruit = [\"apple\", \"Ambarella\", \"apricot\", \"banana\", \"coconut\", \"cherry\"]\n",
    "newlist = []\n",
    "for x in fruit:\n",
    "    if \"a\" in x:\n",
    "        newlist.append(x)\n",
    "print(newlist)\n",
    "    "
   ]
  },
  {
   "cell_type": "code",
   "execution_count": 43,
   "id": "36e9a25b",
   "metadata": {},
   "outputs": [
    {
     "name": "stdout",
     "output_type": "stream",
     "text": [
      "['apple', 'Ambarella', 'apricot', 'banana']\n"
     ]
    }
   ],
   "source": [
    "newlist_2 = [x for x in fruit if \"a\" in x ]\n",
    "print(newlist_2)"
   ]
  },
  {
   "cell_type": "markdown",
   "id": "33a20074",
   "metadata": {},
   "source": [
    "# The syntax "
   ]
  },
  {
   "cell_type": "markdown",
   "id": "f2e19380",
   "metadata": {},
   "source": [
    "newlist = [expression for item in iterable if condition == True]\n",
    "\n"
   ]
  },
  {
   "cell_type": "code",
   "execution_count": 46,
   "id": "cfeb5af3",
   "metadata": {},
   "outputs": [
    {
     "name": "stdout",
     "output_type": "stream",
     "text": [
      "['Ambarella', 'apricot', 'banana', 'coconut', 'cherry']\n"
     ]
    }
   ],
   "source": [
    "newlist_3 = [x for x in fruit if x != \"apple\" ]\n",
    "print(newlist_3)"
   ]
  },
  {
   "cell_type": "code",
   "execution_count": 48,
   "id": "76c82a41",
   "metadata": {},
   "outputs": [
    {
     "name": "stdout",
     "output_type": "stream",
     "text": [
      "[0, 1, 2, 3, 4, 5, 6, 7, 8, 9]\n"
     ]
    }
   ],
   "source": [
    "newlist_4 = [x for x in range(10)]\n",
    "print(newlist_4)"
   ]
  },
  {
   "cell_type": "code",
   "execution_count": 51,
   "id": "bb16673c",
   "metadata": {},
   "outputs": [
    {
     "name": "stdout",
     "output_type": "stream",
     "text": [
      "['APPLE', 'AMBARELLA', 'APRICOT', 'BANANA', 'COCONUT', 'CHERRY']\n"
     ]
    }
   ],
   "source": [
    "newlist = [x.upper() for x in fruit]\n",
    "print(newlist)"
   ]
  },
  {
   "cell_type": "code",
   "execution_count": 54,
   "id": "7a8f2ab6",
   "metadata": {},
   "outputs": [
    {
     "name": "stdout",
     "output_type": "stream",
     "text": [
      "['truong2', 'truong2', 'truong2', 'truong2', 'truong2', 'truong2']\n"
     ]
    }
   ],
   "source": [
    "newlist = [ \"truong2\" for x in fruit]\n",
    "print(newlist)"
   ]
  },
  {
   "cell_type": "code",
   "execution_count": 57,
   "id": "4d8356df",
   "metadata": {},
   "outputs": [
    {
     "name": "stdout",
     "output_type": "stream",
     "text": [
      "['apple', 'Ambarella', 'apricot', 'orange', 'coconut', 'cherry']\n"
     ]
    }
   ],
   "source": [
    "newlist = [x if x != \"banana\" else \"orange\" for x in fruit ]\n",
    "print(newlist)"
   ]
  },
  {
   "cell_type": "markdown",
   "id": "e5abdd64",
   "metadata": {},
   "source": [
    "# Sort list "
   ]
  },
  {
   "cell_type": "code",
   "execution_count": 10,
   "id": "e8ef6028",
   "metadata": {},
   "outputs": [],
   "source": [
    "newlist.sort(reverse = True)"
   ]
  },
  {
   "cell_type": "code",
   "execution_count": 11,
   "id": "6910a9f3",
   "metadata": {},
   "outputs": [
    {
     "data": {
      "text/plain": [
       "['banana', 'apricot', 'apple', 'Ambarella']"
      ]
     },
     "execution_count": 11,
     "metadata": {},
     "output_type": "execute_result"
    }
   ],
   "source": [
    "newlist"
   ]
  },
  {
   "cell_type": "code",
   "execution_count": 16,
   "id": "1bfeba7c",
   "metadata": {},
   "outputs": [
    {
     "name": "stdout",
     "output_type": "stream",
     "text": [
      "[100, 7, 5, 5, 4, 3, 2, 1]\n"
     ]
    }
   ],
   "source": [
    "list_1 = [100, 1, 2, 3, 5 ,7 ,4 ,5 ]\n",
    "list_1.sort(reverse = True)\n",
    "print(list_1)"
   ]
  },
  {
   "cell_type": "markdown",
   "id": "01ea0438",
   "metadata": {},
   "source": [
    "# Customise Sort Function  "
   ]
  },
  {
   "cell_type": "code",
   "execution_count": 18,
   "id": "0d2962b2",
   "metadata": {},
   "outputs": [
    {
     "name": "stdout",
     "output_type": "stream",
     "text": [
      "43\n",
      "45\n",
      "45\n",
      "46\n",
      "47\n",
      "48\n",
      "49\n",
      "50\n"
     ]
    },
    {
     "data": {
      "text/plain": [
       "[7, 5, 5, 4, 3, 2, 1, 100]"
      ]
     },
     "execution_count": 18,
     "metadata": {},
     "output_type": "execute_result"
    }
   ],
   "source": [
    "def myfunc(n):\n",
    "    return abs(n - 50)\n",
    "for x in list_1: \n",
    "    print(myfunc(x))\n",
    "list_1.sort(key = myfunc)\n",
    "list_1\n",
    "    "
   ]
  },
  {
   "cell_type": "markdown",
   "id": "670e7196",
   "metadata": {},
   "source": [
    "Case Insensitive Sort, In default, sort method is case insensitive, resulting in all capital letters being sorted before lower case letters:"
   ]
  },
  {
   "cell_type": "code",
   "execution_count": 23,
   "id": "754ac4b6",
   "metadata": {},
   "outputs": [
    {
     "data": {
      "text/plain": [
       "['Ambarella', 'apple', 'apricot', 'banana']"
      ]
     },
     "execution_count": 23,
     "metadata": {},
     "output_type": "execute_result"
    }
   ],
   "source": [
    "newlist.sort(key = str.lower)\n",
    "newlist"
   ]
  },
  {
   "cell_type": "markdown",
   "id": "1783f740",
   "metadata": {},
   "source": [
    "# Reserve Order "
   ]
  },
  {
   "cell_type": "markdown",
   "id": "12e41324",
   "metadata": {},
   "source": [
    "What if you want to reverse the order of a list, regardless of the alphabet?\n",
    "\n",
    "The reverse() method reverses the current sorting order of the elements."
   ]
  },
  {
   "cell_type": "code",
   "execution_count": 24,
   "id": "c952fd31",
   "metadata": {},
   "outputs": [
    {
     "name": "stdout",
     "output_type": "stream",
     "text": [
      "['cherry', 'Kiwi', 'Orange', 'banana']\n"
     ]
    }
   ],
   "source": [
    "thislist = [\"banana\", \"Orange\", \"Kiwi\", \"cherry\"]\n",
    "thislist.reverse()\n",
    "print(thislist)"
   ]
  },
  {
   "cell_type": "markdown",
   "id": "4bb5d465",
   "metadata": {},
   "source": [
    "# Copy a list "
   ]
  },
  {
   "cell_type": "markdown",
   "id": "688adc02",
   "metadata": {},
   "source": [
    "You cannot copy list symply by typing list_1 = list_2 , because : list 2 will only reference to list_1, and changes made in list 1 will automatic also be made in list 2"
   ]
  },
  {
   "cell_type": "code",
   "execution_count": 25,
   "id": "9bdcd963",
   "metadata": {},
   "outputs": [
    {
     "name": "stdout",
     "output_type": "stream",
     "text": [
      "['apple', 'banana', 'cherry']\n"
     ]
    }
   ],
   "source": [
    "thislist = [\"apple\", \"banana\", \"cherry\"]\n",
    "mylist = thislist.copy()\n",
    "print(mylist)"
   ]
  },
  {
   "cell_type": "code",
   "execution_count": 26,
   "id": "cd89b9d1",
   "metadata": {},
   "outputs": [
    {
     "name": "stdout",
     "output_type": "stream",
     "text": [
      "['apple', 'banana', 'cherry']\n"
     ]
    }
   ],
   "source": [
    "thislist = [\"apple\", \"banana\", \"cherry\"]\n",
    "mylist = list(thislist)\n",
    "print(mylist)\n"
   ]
  },
  {
   "cell_type": "markdown",
   "id": "dfdc25d3",
   "metadata": {},
   "source": [
    "# Join List \n"
   ]
  },
  {
   "cell_type": "code",
   "execution_count": 27,
   "id": "91cb0ecd",
   "metadata": {},
   "outputs": [
    {
     "data": {
      "text/plain": [
       "['apple', 'banana', 'cherry', 'Ambarella', 'apple', 'apricot', 'banana']"
      ]
     },
     "execution_count": 27,
     "metadata": {},
     "output_type": "execute_result"
    }
   ],
   "source": [
    "list_3 = thislist + newlist\n",
    "list_3"
   ]
  },
  {
   "cell_type": "code",
   "execution_count": 29,
   "id": "1b535a49",
   "metadata": {},
   "outputs": [
    {
     "data": {
      "text/plain": [
       "['apple', 'banana', 'cherry', 'Ambarella', 'apple', 'apricot', 'banana']"
      ]
     },
     "execution_count": 29,
     "metadata": {},
     "output_type": "execute_result"
    }
   ],
   "source": [
    "list_4 = []\n",
    "for x in list_3:\n",
    "    list_4.append(x)\n",
    "list_4\n"
   ]
  },
  {
   "cell_type": "code",
   "execution_count": 37,
   "id": "a14e4e9e",
   "metadata": {},
   "outputs": [],
   "source": [
    "list_5 = ['hehe','apple','cherry','5']\n",
    "list_5.extend(list_3)"
   ]
  },
  {
   "cell_type": "code",
   "execution_count": 38,
   "id": "2efbd7f4",
   "metadata": {},
   "outputs": [
    {
     "data": {
      "text/plain": [
       "['hehe',\n",
       " 'apple',\n",
       " 'cherry',\n",
       " '5',\n",
       " 'apple',\n",
       " 'banana',\n",
       " 'cherry',\n",
       " 'Ambarella',\n",
       " 'apple',\n",
       " 'apricot',\n",
       " 'banana']"
      ]
     },
     "execution_count": 38,
     "metadata": {},
     "output_type": "execute_result"
    }
   ],
   "source": [
    "list_5"
   ]
  },
  {
   "cell_type": "code",
   "execution_count": null,
   "id": "40d5bb07",
   "metadata": {},
   "outputs": [],
   "source": []
  }
 ],
 "metadata": {
  "kernelspec": {
   "display_name": "Python 3 (ipykernel)",
   "language": "python",
   "name": "python3"
  },
  "language_info": {
   "codemirror_mode": {
    "name": "ipython",
    "version": 3
   },
   "file_extension": ".py",
   "mimetype": "text/x-python",
   "name": "python",
   "nbconvert_exporter": "python",
   "pygments_lexer": "ipython3",
   "version": "3.9.13"
  }
 },
 "nbformat": 4,
 "nbformat_minor": 5
}
